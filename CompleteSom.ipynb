{
  "cells": [
    {
      "cell_type": "code",
      "execution_count": 5,
      "metadata": {
        "colab": {
          "base_uri": "https://localhost:8080/"
        },
        "id": "SUsUBNYG-DUP",
        "outputId": "5a6f12ca-8d6e-4f93-87c1-28bf3074902a"
      },
      "outputs": [
        {
          "output_type": "stream",
          "name": "stderr",
          "text": [
            "/usr/local/lib/python3.10/dist-packages/albumentations/__init__.py:24: UserWarning: A new version of Albumentations is available: 1.4.24 (you have 1.4.20). Upgrade using: pip install -U albumentations. To disable automatic update checks, set the environment variable NO_ALBUMENTATIONS_UPDATE to 1.\n",
            "  check_for_updates()\n"
          ]
        }
      ],
      "source": [
        "import pickle\n",
        "import numpy as np\n",
        "import pandas as pd\n",
        "from PIL import Image\n",
        "import os\n",
        "import torch\n",
        "from torchvision import transforms\n",
        "import albumentations as A\n",
        "import cv2\n",
        "import torchvision.models as models\n",
        "from torch.utils.data import DataLoader, Dataset\n",
        "import torchvision.transforms as transforms\n",
        "from sklearn.preprocessing import LabelEncoder\n",
        "from minisom import MiniSom\n",
        "import matplotlib.pyplot as plt\n",
        "\n",
        "\n",
        "\n"
      ]
    },
    {
      "cell_type": "code",
      "execution_count": 4,
      "metadata": {
        "id": "MUK1uoWG-DUT"
      },
      "outputs": [],
      "source": [
        "from tensorflow.keras.preprocessing import image\n",
        "from tensorflow.keras import layers, models\n"
      ]
    },
    {
      "cell_type": "code",
      "source": [
        "from torchvision import models\n"
      ],
      "metadata": {
        "id": "i9xCKgarA6Un"
      },
      "execution_count": 9,
      "outputs": []
    },
    {
      "cell_type": "code",
      "execution_count": 5,
      "metadata": {
        "id": "W6_YDzOk-DUT"
      },
      "outputs": [],
      "source": [
        "\n",
        "img_size = (224, 224)\n",
        "root_dir = 'FLIR_ADAS_1_3/train'\n",
        "subfolders = ['Annotated_thermal_8_bit','RGB', 'thermal_16_bit']\n",
        "all_images = []\n",
        "all_labels = []"
      ]
    },
    {
      "cell_type": "code",
      "execution_count": null,
      "metadata": {
        "id": "tczz0YVm-DUT"
      },
      "outputs": [],
      "source": [
        "def load_images_from_subfolders(subfolders, root_dir, img_size):\n",
        "    for subfolder in subfolders:\n",
        "        subfolder_path = os.path.join(root_dir, subfolder)\n",
        "\n",
        "        if os.path.isdir(subfolder_path):\n",
        "            print(f\"Processing folder: {subfolder_path}\")\n",
        "            for filename in os.listdir(subfolder_path):\n",
        "                if filename.endswith(('.png', '.jpg', '.jpeg')):\n",
        "                    img_path = os.path.join(subfolder_path, filename)\n",
        "\n",
        "                    try:\n",
        "                        img = Image.open(img_path).convert('RGB')\n",
        "\n",
        "                        img = img.resize(img_size)\n",
        "                        img_array = np.array(img)\n",
        "\n",
        "                        all_images.append(img_array)\n",
        "\n",
        "\n",
        "                        label = subfolder\n",
        "                        all_labels.append(label)\n",
        "\n",
        "                    except Exception as e:\n",
        "                        print(f\"Error loading image {filename}: {e}\")\n",
        "        else:\n",
        "            print(f\"Subfolder {subfolder} does not exist in the directory {root_dir}\")"
      ]
    },
    {
      "cell_type": "code",
      "execution_count": null,
      "metadata": {
        "id": "bEdyFiS5-DUU",
        "outputId": "f89d589b-5b40-4718-e721-57a1dee8b8ae"
      },
      "outputs": [
        {
          "name": "stdout",
          "output_type": "stream",
          "text": [
            "Processing folder: archive/FLIR_ADAS_1_3/train\\Annotated_thermal_8_bit\n",
            "Processing folder: archive/FLIR_ADAS_1_3/train\\RGB\n"
          ]
        }
      ],
      "source": [
        "load_images_from_subfolders(subfolders, root_dir, (224,224))"
      ]
    },
    {
      "cell_type": "code",
      "execution_count": null,
      "metadata": {
        "id": "mkopRtVm-DUV",
        "outputId": "0190b3de-e467-46db-db2b-f2607d5c2032"
      },
      "outputs": [
        {
          "name": "stdout",
          "output_type": "stream",
          "text": [
            "Shape of image data: (17225, 224, 224, 3)\n",
            "Shape of labels: (17225,)\n"
          ]
        }
      ],
      "source": [
        "X = np.array(all_images)\n",
        "y = np.array(all_labels)\n",
        "\n",
        "print(f\"Shape of image data: {X.shape}\")\n",
        "print(f\"Shape of labels: {y.shape}\")\n",
        "\n",
        "\n"
      ]
    },
    {
      "cell_type": "code",
      "execution_count": null,
      "metadata": {
        "id": "_m1zXg-d-DUW"
      },
      "outputs": [],
      "source": [
        "X = X/255.0\n"
      ]
    },
    {
      "cell_type": "code",
      "execution_count": null,
      "metadata": {
        "id": "RVKgJQ0N-DUX"
      },
      "outputs": [],
      "source": [
        "np.save('processed_image_data1.npy', y)\n"
      ]
    },
    {
      "cell_type": "code",
      "execution_count": 7,
      "metadata": {
        "colab": {
          "base_uri": "https://localhost:8080/"
        },
        "id": "dOd85qNl-DUX",
        "outputId": "ada9e4a5-7d7d-46ca-e6a4-92ca290cf595"
      },
      "outputs": [
        {
          "output_type": "execute_result",
          "data": {
            "text/plain": [
              "array(['Annotated_thermal_8_bit', 'Annotated_thermal_8_bit',\n",
              "       'Annotated_thermal_8_bit', ..., 'RGB', 'RGB', 'RGB'], dtype='<U23')"
            ]
          },
          "metadata": {},
          "execution_count": 7
        }
      ],
      "source": [
        "X= np.load('processed_image_datas.npy')\n",
        "X\n",
        "\n"
      ]
    },
    {
      "cell_type": "code",
      "execution_count": null,
      "metadata": {
        "id": "iG7w6Ji_-DUX"
      },
      "outputs": [],
      "source": [
        "y= np.load('processed_image_data1.npy')\n"
      ]
    },
    {
      "cell_type": "code",
      "execution_count": null,
      "metadata": {
        "id": "FqXYOG1z-DUY",
        "outputId": "30fbf6d4-ed3a-4bf6-ab4f-e0def15e0624"
      },
      "outputs": [
        {
          "data": {
            "text/plain": [
              "(17225, 224, 224, 3)"
            ]
          },
          "execution_count": 10,
          "metadata": {},
          "output_type": "execute_result"
        }
      ],
      "source": [
        "X.shape"
      ]
    },
    {
      "cell_type": "code",
      "execution_count": 10,
      "metadata": {
        "colab": {
          "base_uri": "https://localhost:8080/"
        },
        "id": "PFHM6VoD-DUY",
        "outputId": "04eba6c7-3289-487f-8d5a-c11199b17bd8"
      },
      "outputs": [
        {
          "output_type": "stream",
          "name": "stderr",
          "text": [
            "/usr/local/lib/python3.10/dist-packages/torchvision/models/_utils.py:208: UserWarning: The parameter 'pretrained' is deprecated since 0.13 and may be removed in the future, please use 'weights' instead.\n",
            "  warnings.warn(\n",
            "/usr/local/lib/python3.10/dist-packages/torchvision/models/_utils.py:223: UserWarning: Arguments other than a weight enum or `None` for 'weights' are deprecated since 0.13 and may be removed in the future. The current behavior is equivalent to passing `weights=RegNet_Y_800MF_Weights.IMAGENET1K_V1`. You can also use `weights=RegNet_Y_800MF_Weights.DEFAULT` to get the most up-to-date weights.\n",
            "  warnings.warn(msg)\n",
            "Downloading: \"https://download.pytorch.org/models/regnet_y_800mf-1b27b58c.pth\" to /root/.cache/torch/hub/checkpoints/regnet_y_800mf-1b27b58c.pth\n",
            "100%|██████████| 24.8M/24.8M [00:00<00:00, 92.5MB/s]\n"
          ]
        }
      ],
      "source": [
        "model = models.regnet_y_800mf(pretrained=True)\n"
      ]
    },
    {
      "cell_type": "code",
      "execution_count": 11,
      "metadata": {
        "colab": {
          "base_uri": "https://localhost:8080/"
        },
        "id": "2IN1-0SE-DUY",
        "outputId": "cc9ee249-35e0-4f1d-af0b-d815b7ba77a0"
      },
      "outputs": [
        {
          "output_type": "execute_result",
          "data": {
            "text/plain": [
              "RegNet(\n",
              "  (stem): SimpleStemIN(\n",
              "    (0): Conv2d(3, 32, kernel_size=(3, 3), stride=(2, 2), padding=(1, 1), bias=False)\n",
              "    (1): BatchNorm2d(32, eps=1e-05, momentum=0.1, affine=True, track_running_stats=True)\n",
              "    (2): ReLU(inplace=True)\n",
              "  )\n",
              "  (trunk_output): Sequential(\n",
              "    (block1): AnyStage(\n",
              "      (block1-0): ResBottleneckBlock(\n",
              "        (proj): Conv2dNormActivation(\n",
              "          (0): Conv2d(32, 64, kernel_size=(1, 1), stride=(2, 2), bias=False)\n",
              "          (1): BatchNorm2d(64, eps=1e-05, momentum=0.1, affine=True, track_running_stats=True)\n",
              "        )\n",
              "        (f): BottleneckTransform(\n",
              "          (a): Conv2dNormActivation(\n",
              "            (0): Conv2d(32, 64, kernel_size=(1, 1), stride=(1, 1), bias=False)\n",
              "            (1): BatchNorm2d(64, eps=1e-05, momentum=0.1, affine=True, track_running_stats=True)\n",
              "            (2): ReLU(inplace=True)\n",
              "          )\n",
              "          (b): Conv2dNormActivation(\n",
              "            (0): Conv2d(64, 64, kernel_size=(3, 3), stride=(2, 2), padding=(1, 1), groups=4, bias=False)\n",
              "            (1): BatchNorm2d(64, eps=1e-05, momentum=0.1, affine=True, track_running_stats=True)\n",
              "            (2): ReLU(inplace=True)\n",
              "          )\n",
              "          (se): SqueezeExcitation(\n",
              "            (avgpool): AdaptiveAvgPool2d(output_size=1)\n",
              "            (fc1): Conv2d(64, 8, kernel_size=(1, 1), stride=(1, 1))\n",
              "            (fc2): Conv2d(8, 64, kernel_size=(1, 1), stride=(1, 1))\n",
              "            (activation): ReLU()\n",
              "            (scale_activation): Sigmoid()\n",
              "          )\n",
              "          (c): Conv2dNormActivation(\n",
              "            (0): Conv2d(64, 64, kernel_size=(1, 1), stride=(1, 1), bias=False)\n",
              "            (1): BatchNorm2d(64, eps=1e-05, momentum=0.1, affine=True, track_running_stats=True)\n",
              "          )\n",
              "        )\n",
              "        (activation): ReLU(inplace=True)\n",
              "      )\n",
              "    )\n",
              "    (block2): AnyStage(\n",
              "      (block2-0): ResBottleneckBlock(\n",
              "        (proj): Conv2dNormActivation(\n",
              "          (0): Conv2d(64, 144, kernel_size=(1, 1), stride=(2, 2), bias=False)\n",
              "          (1): BatchNorm2d(144, eps=1e-05, momentum=0.1, affine=True, track_running_stats=True)\n",
              "        )\n",
              "        (f): BottleneckTransform(\n",
              "          (a): Conv2dNormActivation(\n",
              "            (0): Conv2d(64, 144, kernel_size=(1, 1), stride=(1, 1), bias=False)\n",
              "            (1): BatchNorm2d(144, eps=1e-05, momentum=0.1, affine=True, track_running_stats=True)\n",
              "            (2): ReLU(inplace=True)\n",
              "          )\n",
              "          (b): Conv2dNormActivation(\n",
              "            (0): Conv2d(144, 144, kernel_size=(3, 3), stride=(2, 2), padding=(1, 1), groups=9, bias=False)\n",
              "            (1): BatchNorm2d(144, eps=1e-05, momentum=0.1, affine=True, track_running_stats=True)\n",
              "            (2): ReLU(inplace=True)\n",
              "          )\n",
              "          (se): SqueezeExcitation(\n",
              "            (avgpool): AdaptiveAvgPool2d(output_size=1)\n",
              "            (fc1): Conv2d(144, 16, kernel_size=(1, 1), stride=(1, 1))\n",
              "            (fc2): Conv2d(16, 144, kernel_size=(1, 1), stride=(1, 1))\n",
              "            (activation): ReLU()\n",
              "            (scale_activation): Sigmoid()\n",
              "          )\n",
              "          (c): Conv2dNormActivation(\n",
              "            (0): Conv2d(144, 144, kernel_size=(1, 1), stride=(1, 1), bias=False)\n",
              "            (1): BatchNorm2d(144, eps=1e-05, momentum=0.1, affine=True, track_running_stats=True)\n",
              "          )\n",
              "        )\n",
              "        (activation): ReLU(inplace=True)\n",
              "      )\n",
              "      (block2-1): ResBottleneckBlock(\n",
              "        (f): BottleneckTransform(\n",
              "          (a): Conv2dNormActivation(\n",
              "            (0): Conv2d(144, 144, kernel_size=(1, 1), stride=(1, 1), bias=False)\n",
              "            (1): BatchNorm2d(144, eps=1e-05, momentum=0.1, affine=True, track_running_stats=True)\n",
              "            (2): ReLU(inplace=True)\n",
              "          )\n",
              "          (b): Conv2dNormActivation(\n",
              "            (0): Conv2d(144, 144, kernel_size=(3, 3), stride=(1, 1), padding=(1, 1), groups=9, bias=False)\n",
              "            (1): BatchNorm2d(144, eps=1e-05, momentum=0.1, affine=True, track_running_stats=True)\n",
              "            (2): ReLU(inplace=True)\n",
              "          )\n",
              "          (se): SqueezeExcitation(\n",
              "            (avgpool): AdaptiveAvgPool2d(output_size=1)\n",
              "            (fc1): Conv2d(144, 36, kernel_size=(1, 1), stride=(1, 1))\n",
              "            (fc2): Conv2d(36, 144, kernel_size=(1, 1), stride=(1, 1))\n",
              "            (activation): ReLU()\n",
              "            (scale_activation): Sigmoid()\n",
              "          )\n",
              "          (c): Conv2dNormActivation(\n",
              "            (0): Conv2d(144, 144, kernel_size=(1, 1), stride=(1, 1), bias=False)\n",
              "            (1): BatchNorm2d(144, eps=1e-05, momentum=0.1, affine=True, track_running_stats=True)\n",
              "          )\n",
              "        )\n",
              "        (activation): ReLU(inplace=True)\n",
              "      )\n",
              "      (block2-2): ResBottleneckBlock(\n",
              "        (f): BottleneckTransform(\n",
              "          (a): Conv2dNormActivation(\n",
              "            (0): Conv2d(144, 144, kernel_size=(1, 1), stride=(1, 1), bias=False)\n",
              "            (1): BatchNorm2d(144, eps=1e-05, momentum=0.1, affine=True, track_running_stats=True)\n",
              "            (2): ReLU(inplace=True)\n",
              "          )\n",
              "          (b): Conv2dNormActivation(\n",
              "            (0): Conv2d(144, 144, kernel_size=(3, 3), stride=(1, 1), padding=(1, 1), groups=9, bias=False)\n",
              "            (1): BatchNorm2d(144, eps=1e-05, momentum=0.1, affine=True, track_running_stats=True)\n",
              "            (2): ReLU(inplace=True)\n",
              "          )\n",
              "          (se): SqueezeExcitation(\n",
              "            (avgpool): AdaptiveAvgPool2d(output_size=1)\n",
              "            (fc1): Conv2d(144, 36, kernel_size=(1, 1), stride=(1, 1))\n",
              "            (fc2): Conv2d(36, 144, kernel_size=(1, 1), stride=(1, 1))\n",
              "            (activation): ReLU()\n",
              "            (scale_activation): Sigmoid()\n",
              "          )\n",
              "          (c): Conv2dNormActivation(\n",
              "            (0): Conv2d(144, 144, kernel_size=(1, 1), stride=(1, 1), bias=False)\n",
              "            (1): BatchNorm2d(144, eps=1e-05, momentum=0.1, affine=True, track_running_stats=True)\n",
              "          )\n",
              "        )\n",
              "        (activation): ReLU(inplace=True)\n",
              "      )\n",
              "    )\n",
              "    (block3): AnyStage(\n",
              "      (block3-0): ResBottleneckBlock(\n",
              "        (proj): Conv2dNormActivation(\n",
              "          (0): Conv2d(144, 320, kernel_size=(1, 1), stride=(2, 2), bias=False)\n",
              "          (1): BatchNorm2d(320, eps=1e-05, momentum=0.1, affine=True, track_running_stats=True)\n",
              "        )\n",
              "        (f): BottleneckTransform(\n",
              "          (a): Conv2dNormActivation(\n",
              "            (0): Conv2d(144, 320, kernel_size=(1, 1), stride=(1, 1), bias=False)\n",
              "            (1): BatchNorm2d(320, eps=1e-05, momentum=0.1, affine=True, track_running_stats=True)\n",
              "            (2): ReLU(inplace=True)\n",
              "          )\n",
              "          (b): Conv2dNormActivation(\n",
              "            (0): Conv2d(320, 320, kernel_size=(3, 3), stride=(2, 2), padding=(1, 1), groups=20, bias=False)\n",
              "            (1): BatchNorm2d(320, eps=1e-05, momentum=0.1, affine=True, track_running_stats=True)\n",
              "            (2): ReLU(inplace=True)\n",
              "          )\n",
              "          (se): SqueezeExcitation(\n",
              "            (avgpool): AdaptiveAvgPool2d(output_size=1)\n",
              "            (fc1): Conv2d(320, 36, kernel_size=(1, 1), stride=(1, 1))\n",
              "            (fc2): Conv2d(36, 320, kernel_size=(1, 1), stride=(1, 1))\n",
              "            (activation): ReLU()\n",
              "            (scale_activation): Sigmoid()\n",
              "          )\n",
              "          (c): Conv2dNormActivation(\n",
              "            (0): Conv2d(320, 320, kernel_size=(1, 1), stride=(1, 1), bias=False)\n",
              "            (1): BatchNorm2d(320, eps=1e-05, momentum=0.1, affine=True, track_running_stats=True)\n",
              "          )\n",
              "        )\n",
              "        (activation): ReLU(inplace=True)\n",
              "      )\n",
              "      (block3-1): ResBottleneckBlock(\n",
              "        (f): BottleneckTransform(\n",
              "          (a): Conv2dNormActivation(\n",
              "            (0): Conv2d(320, 320, kernel_size=(1, 1), stride=(1, 1), bias=False)\n",
              "            (1): BatchNorm2d(320, eps=1e-05, momentum=0.1, affine=True, track_running_stats=True)\n",
              "            (2): ReLU(inplace=True)\n",
              "          )\n",
              "          (b): Conv2dNormActivation(\n",
              "            (0): Conv2d(320, 320, kernel_size=(3, 3), stride=(1, 1), padding=(1, 1), groups=20, bias=False)\n",
              "            (1): BatchNorm2d(320, eps=1e-05, momentum=0.1, affine=True, track_running_stats=True)\n",
              "            (2): ReLU(inplace=True)\n",
              "          )\n",
              "          (se): SqueezeExcitation(\n",
              "            (avgpool): AdaptiveAvgPool2d(output_size=1)\n",
              "            (fc1): Conv2d(320, 80, kernel_size=(1, 1), stride=(1, 1))\n",
              "            (fc2): Conv2d(80, 320, kernel_size=(1, 1), stride=(1, 1))\n",
              "            (activation): ReLU()\n",
              "            (scale_activation): Sigmoid()\n",
              "          )\n",
              "          (c): Conv2dNormActivation(\n",
              "            (0): Conv2d(320, 320, kernel_size=(1, 1), stride=(1, 1), bias=False)\n",
              "            (1): BatchNorm2d(320, eps=1e-05, momentum=0.1, affine=True, track_running_stats=True)\n",
              "          )\n",
              "        )\n",
              "        (activation): ReLU(inplace=True)\n",
              "      )\n",
              "      (block3-2): ResBottleneckBlock(\n",
              "        (f): BottleneckTransform(\n",
              "          (a): Conv2dNormActivation(\n",
              "            (0): Conv2d(320, 320, kernel_size=(1, 1), stride=(1, 1), bias=False)\n",
              "            (1): BatchNorm2d(320, eps=1e-05, momentum=0.1, affine=True, track_running_stats=True)\n",
              "            (2): ReLU(inplace=True)\n",
              "          )\n",
              "          (b): Conv2dNormActivation(\n",
              "            (0): Conv2d(320, 320, kernel_size=(3, 3), stride=(1, 1), padding=(1, 1), groups=20, bias=False)\n",
              "            (1): BatchNorm2d(320, eps=1e-05, momentum=0.1, affine=True, track_running_stats=True)\n",
              "            (2): ReLU(inplace=True)\n",
              "          )\n",
              "          (se): SqueezeExcitation(\n",
              "            (avgpool): AdaptiveAvgPool2d(output_size=1)\n",
              "            (fc1): Conv2d(320, 80, kernel_size=(1, 1), stride=(1, 1))\n",
              "            (fc2): Conv2d(80, 320, kernel_size=(1, 1), stride=(1, 1))\n",
              "            (activation): ReLU()\n",
              "            (scale_activation): Sigmoid()\n",
              "          )\n",
              "          (c): Conv2dNormActivation(\n",
              "            (0): Conv2d(320, 320, kernel_size=(1, 1), stride=(1, 1), bias=False)\n",
              "            (1): BatchNorm2d(320, eps=1e-05, momentum=0.1, affine=True, track_running_stats=True)\n",
              "          )\n",
              "        )\n",
              "        (activation): ReLU(inplace=True)\n",
              "      )\n",
              "      (block3-3): ResBottleneckBlock(\n",
              "        (f): BottleneckTransform(\n",
              "          (a): Conv2dNormActivation(\n",
              "            (0): Conv2d(320, 320, kernel_size=(1, 1), stride=(1, 1), bias=False)\n",
              "            (1): BatchNorm2d(320, eps=1e-05, momentum=0.1, affine=True, track_running_stats=True)\n",
              "            (2): ReLU(inplace=True)\n",
              "          )\n",
              "          (b): Conv2dNormActivation(\n",
              "            (0): Conv2d(320, 320, kernel_size=(3, 3), stride=(1, 1), padding=(1, 1), groups=20, bias=False)\n",
              "            (1): BatchNorm2d(320, eps=1e-05, momentum=0.1, affine=True, track_running_stats=True)\n",
              "            (2): ReLU(inplace=True)\n",
              "          )\n",
              "          (se): SqueezeExcitation(\n",
              "            (avgpool): AdaptiveAvgPool2d(output_size=1)\n",
              "            (fc1): Conv2d(320, 80, kernel_size=(1, 1), stride=(1, 1))\n",
              "            (fc2): Conv2d(80, 320, kernel_size=(1, 1), stride=(1, 1))\n",
              "            (activation): ReLU()\n",
              "            (scale_activation): Sigmoid()\n",
              "          )\n",
              "          (c): Conv2dNormActivation(\n",
              "            (0): Conv2d(320, 320, kernel_size=(1, 1), stride=(1, 1), bias=False)\n",
              "            (1): BatchNorm2d(320, eps=1e-05, momentum=0.1, affine=True, track_running_stats=True)\n",
              "          )\n",
              "        )\n",
              "        (activation): ReLU(inplace=True)\n",
              "      )\n",
              "      (block3-4): ResBottleneckBlock(\n",
              "        (f): BottleneckTransform(\n",
              "          (a): Conv2dNormActivation(\n",
              "            (0): Conv2d(320, 320, kernel_size=(1, 1), stride=(1, 1), bias=False)\n",
              "            (1): BatchNorm2d(320, eps=1e-05, momentum=0.1, affine=True, track_running_stats=True)\n",
              "            (2): ReLU(inplace=True)\n",
              "          )\n",
              "          (b): Conv2dNormActivation(\n",
              "            (0): Conv2d(320, 320, kernel_size=(3, 3), stride=(1, 1), padding=(1, 1), groups=20, bias=False)\n",
              "            (1): BatchNorm2d(320, eps=1e-05, momentum=0.1, affine=True, track_running_stats=True)\n",
              "            (2): ReLU(inplace=True)\n",
              "          )\n",
              "          (se): SqueezeExcitation(\n",
              "            (avgpool): AdaptiveAvgPool2d(output_size=1)\n",
              "            (fc1): Conv2d(320, 80, kernel_size=(1, 1), stride=(1, 1))\n",
              "            (fc2): Conv2d(80, 320, kernel_size=(1, 1), stride=(1, 1))\n",
              "            (activation): ReLU()\n",
              "            (scale_activation): Sigmoid()\n",
              "          )\n",
              "          (c): Conv2dNormActivation(\n",
              "            (0): Conv2d(320, 320, kernel_size=(1, 1), stride=(1, 1), bias=False)\n",
              "            (1): BatchNorm2d(320, eps=1e-05, momentum=0.1, affine=True, track_running_stats=True)\n",
              "          )\n",
              "        )\n",
              "        (activation): ReLU(inplace=True)\n",
              "      )\n",
              "      (block3-5): ResBottleneckBlock(\n",
              "        (f): BottleneckTransform(\n",
              "          (a): Conv2dNormActivation(\n",
              "            (0): Conv2d(320, 320, kernel_size=(1, 1), stride=(1, 1), bias=False)\n",
              "            (1): BatchNorm2d(320, eps=1e-05, momentum=0.1, affine=True, track_running_stats=True)\n",
              "            (2): ReLU(inplace=True)\n",
              "          )\n",
              "          (b): Conv2dNormActivation(\n",
              "            (0): Conv2d(320, 320, kernel_size=(3, 3), stride=(1, 1), padding=(1, 1), groups=20, bias=False)\n",
              "            (1): BatchNorm2d(320, eps=1e-05, momentum=0.1, affine=True, track_running_stats=True)\n",
              "            (2): ReLU(inplace=True)\n",
              "          )\n",
              "          (se): SqueezeExcitation(\n",
              "            (avgpool): AdaptiveAvgPool2d(output_size=1)\n",
              "            (fc1): Conv2d(320, 80, kernel_size=(1, 1), stride=(1, 1))\n",
              "            (fc2): Conv2d(80, 320, kernel_size=(1, 1), stride=(1, 1))\n",
              "            (activation): ReLU()\n",
              "            (scale_activation): Sigmoid()\n",
              "          )\n",
              "          (c): Conv2dNormActivation(\n",
              "            (0): Conv2d(320, 320, kernel_size=(1, 1), stride=(1, 1), bias=False)\n",
              "            (1): BatchNorm2d(320, eps=1e-05, momentum=0.1, affine=True, track_running_stats=True)\n",
              "          )\n",
              "        )\n",
              "        (activation): ReLU(inplace=True)\n",
              "      )\n",
              "      (block3-6): ResBottleneckBlock(\n",
              "        (f): BottleneckTransform(\n",
              "          (a): Conv2dNormActivation(\n",
              "            (0): Conv2d(320, 320, kernel_size=(1, 1), stride=(1, 1), bias=False)\n",
              "            (1): BatchNorm2d(320, eps=1e-05, momentum=0.1, affine=True, track_running_stats=True)\n",
              "            (2): ReLU(inplace=True)\n",
              "          )\n",
              "          (b): Conv2dNormActivation(\n",
              "            (0): Conv2d(320, 320, kernel_size=(3, 3), stride=(1, 1), padding=(1, 1), groups=20, bias=False)\n",
              "            (1): BatchNorm2d(320, eps=1e-05, momentum=0.1, affine=True, track_running_stats=True)\n",
              "            (2): ReLU(inplace=True)\n",
              "          )\n",
              "          (se): SqueezeExcitation(\n",
              "            (avgpool): AdaptiveAvgPool2d(output_size=1)\n",
              "            (fc1): Conv2d(320, 80, kernel_size=(1, 1), stride=(1, 1))\n",
              "            (fc2): Conv2d(80, 320, kernel_size=(1, 1), stride=(1, 1))\n",
              "            (activation): ReLU()\n",
              "            (scale_activation): Sigmoid()\n",
              "          )\n",
              "          (c): Conv2dNormActivation(\n",
              "            (0): Conv2d(320, 320, kernel_size=(1, 1), stride=(1, 1), bias=False)\n",
              "            (1): BatchNorm2d(320, eps=1e-05, momentum=0.1, affine=True, track_running_stats=True)\n",
              "          )\n",
              "        )\n",
              "        (activation): ReLU(inplace=True)\n",
              "      )\n",
              "      (block3-7): ResBottleneckBlock(\n",
              "        (f): BottleneckTransform(\n",
              "          (a): Conv2dNormActivation(\n",
              "            (0): Conv2d(320, 320, kernel_size=(1, 1), stride=(1, 1), bias=False)\n",
              "            (1): BatchNorm2d(320, eps=1e-05, momentum=0.1, affine=True, track_running_stats=True)\n",
              "            (2): ReLU(inplace=True)\n",
              "          )\n",
              "          (b): Conv2dNormActivation(\n",
              "            (0): Conv2d(320, 320, kernel_size=(3, 3), stride=(1, 1), padding=(1, 1), groups=20, bias=False)\n",
              "            (1): BatchNorm2d(320, eps=1e-05, momentum=0.1, affine=True, track_running_stats=True)\n",
              "            (2): ReLU(inplace=True)\n",
              "          )\n",
              "          (se): SqueezeExcitation(\n",
              "            (avgpool): AdaptiveAvgPool2d(output_size=1)\n",
              "            (fc1): Conv2d(320, 80, kernel_size=(1, 1), stride=(1, 1))\n",
              "            (fc2): Conv2d(80, 320, kernel_size=(1, 1), stride=(1, 1))\n",
              "            (activation): ReLU()\n",
              "            (scale_activation): Sigmoid()\n",
              "          )\n",
              "          (c): Conv2dNormActivation(\n",
              "            (0): Conv2d(320, 320, kernel_size=(1, 1), stride=(1, 1), bias=False)\n",
              "            (1): BatchNorm2d(320, eps=1e-05, momentum=0.1, affine=True, track_running_stats=True)\n",
              "          )\n",
              "        )\n",
              "        (activation): ReLU(inplace=True)\n",
              "      )\n",
              "    )\n",
              "    (block4): AnyStage(\n",
              "      (block4-0): ResBottleneckBlock(\n",
              "        (proj): Conv2dNormActivation(\n",
              "          (0): Conv2d(320, 784, kernel_size=(1, 1), stride=(2, 2), bias=False)\n",
              "          (1): BatchNorm2d(784, eps=1e-05, momentum=0.1, affine=True, track_running_stats=True)\n",
              "        )\n",
              "        (f): BottleneckTransform(\n",
              "          (a): Conv2dNormActivation(\n",
              "            (0): Conv2d(320, 784, kernel_size=(1, 1), stride=(1, 1), bias=False)\n",
              "            (1): BatchNorm2d(784, eps=1e-05, momentum=0.1, affine=True, track_running_stats=True)\n",
              "            (2): ReLU(inplace=True)\n",
              "          )\n",
              "          (b): Conv2dNormActivation(\n",
              "            (0): Conv2d(784, 784, kernel_size=(3, 3), stride=(2, 2), padding=(1, 1), groups=49, bias=False)\n",
              "            (1): BatchNorm2d(784, eps=1e-05, momentum=0.1, affine=True, track_running_stats=True)\n",
              "            (2): ReLU(inplace=True)\n",
              "          )\n",
              "          (se): SqueezeExcitation(\n",
              "            (avgpool): AdaptiveAvgPool2d(output_size=1)\n",
              "            (fc1): Conv2d(784, 80, kernel_size=(1, 1), stride=(1, 1))\n",
              "            (fc2): Conv2d(80, 784, kernel_size=(1, 1), stride=(1, 1))\n",
              "            (activation): ReLU()\n",
              "            (scale_activation): Sigmoid()\n",
              "          )\n",
              "          (c): Conv2dNormActivation(\n",
              "            (0): Conv2d(784, 784, kernel_size=(1, 1), stride=(1, 1), bias=False)\n",
              "            (1): BatchNorm2d(784, eps=1e-05, momentum=0.1, affine=True, track_running_stats=True)\n",
              "          )\n",
              "        )\n",
              "        (activation): ReLU(inplace=True)\n",
              "      )\n",
              "      (block4-1): ResBottleneckBlock(\n",
              "        (f): BottleneckTransform(\n",
              "          (a): Conv2dNormActivation(\n",
              "            (0): Conv2d(784, 784, kernel_size=(1, 1), stride=(1, 1), bias=False)\n",
              "            (1): BatchNorm2d(784, eps=1e-05, momentum=0.1, affine=True, track_running_stats=True)\n",
              "            (2): ReLU(inplace=True)\n",
              "          )\n",
              "          (b): Conv2dNormActivation(\n",
              "            (0): Conv2d(784, 784, kernel_size=(3, 3), stride=(1, 1), padding=(1, 1), groups=49, bias=False)\n",
              "            (1): BatchNorm2d(784, eps=1e-05, momentum=0.1, affine=True, track_running_stats=True)\n",
              "            (2): ReLU(inplace=True)\n",
              "          )\n",
              "          (se): SqueezeExcitation(\n",
              "            (avgpool): AdaptiveAvgPool2d(output_size=1)\n",
              "            (fc1): Conv2d(784, 196, kernel_size=(1, 1), stride=(1, 1))\n",
              "            (fc2): Conv2d(196, 784, kernel_size=(1, 1), stride=(1, 1))\n",
              "            (activation): ReLU()\n",
              "            (scale_activation): Sigmoid()\n",
              "          )\n",
              "          (c): Conv2dNormActivation(\n",
              "            (0): Conv2d(784, 784, kernel_size=(1, 1), stride=(1, 1), bias=False)\n",
              "            (1): BatchNorm2d(784, eps=1e-05, momentum=0.1, affine=True, track_running_stats=True)\n",
              "          )\n",
              "        )\n",
              "        (activation): ReLU(inplace=True)\n",
              "      )\n",
              "    )\n",
              "  )\n",
              "  (avgpool): AdaptiveAvgPool2d(output_size=(1, 1))\n",
              "  (fc): Linear(in_features=784, out_features=1000, bias=True)\n",
              ")"
            ]
          },
          "metadata": {},
          "execution_count": 11
        }
      ],
      "source": [
        "model.eval()"
      ]
    },
    {
      "cell_type": "code",
      "execution_count": null,
      "metadata": {
        "id": "H3gn89QL-DUY"
      },
      "outputs": [],
      "source": [
        "def extract_features(model, dataloader):\n",
        "    features = []\n",
        "    labels = []\n",
        "\n",
        "    with torch.no_grad():\n",
        "        for inputs, label in dataloader:\n",
        "            inputs = inputs.to(device)\n",
        "\n",
        "            output = model.forward_features(inputs)\n",
        "\n",
        "            output = output.view(output.size(0), -1)\n",
        "\n",
        "            features.append(output.cpu().numpy())\n",
        "            labels.append(label)\n",
        "\n",
        "    features = np.concatenate(features, axis=0)\n",
        "    labels = np.concatenate(labels, axis=0)\n",
        "\n",
        "    return features, labels\n"
      ]
    },
    {
      "cell_type": "code",
      "execution_count": null,
      "metadata": {
        "id": "Zw0akUkF-DUY"
      },
      "outputs": [],
      "source": [
        "\n",
        "label_encoder = LabelEncoder()\n",
        "y_encoded = label_encoder.fit_transform(y)\n"
      ]
    },
    {
      "cell_type": "code",
      "execution_count": null,
      "metadata": {
        "id": "1W5uYlmi-DUY"
      },
      "outputs": [],
      "source": [
        "class ImageDataset(Dataset):\n",
        "    def __init__(self, images, labels, transform=None):\n",
        "        self.images = images\n",
        "        self.labels = labels\n",
        "        self.transform = transform\n",
        "\n",
        "    def __len__(self):\n",
        "        return len(self.images)\n",
        "\n",
        "    def __getitem__(self, idx):\n",
        "        img = self.images[idx]\n",
        "        label = self.labels[idx]\n",
        "        img = np.array(img).astype(np.uint8)\n",
        "\n",
        "        if self.transform:\n",
        "            img = Image.fromarray(img)\n",
        "            img = self.transform(img)\n",
        "\n",
        "        return img, label"
      ]
    },
    {
      "cell_type": "code",
      "execution_count": null,
      "metadata": {
        "id": "O_gCuEM7-DUZ"
      },
      "outputs": [],
      "source": [
        "y_tensor = torch.tensor(y_encoded)"
      ]
    },
    {
      "cell_type": "code",
      "execution_count": null,
      "metadata": {
        "id": "ynbe38dk-DUZ"
      },
      "outputs": [],
      "source": [
        "transform = transforms.Compose([\n",
        "    transforms.ToTensor(),\n",
        "    transforms.Resize((224, 224)),\n",
        "    transforms.Normalize(mean=[0.485, 0.456, 0.406], std=[0.229, 0.224, 0.225]),\n",
        "])"
      ]
    },
    {
      "cell_type": "code",
      "execution_count": null,
      "metadata": {
        "id": "X78HD5_Z-DUZ"
      },
      "outputs": [],
      "source": [
        "dataset = ImageDataset(X, y_tensor, transform=transform)\n",
        "dataloader = DataLoader(dataset, batch_size=8, shuffle=False)"
      ]
    },
    {
      "cell_type": "code",
      "execution_count": null,
      "metadata": {
        "id": "2I08-Zr2-DUZ"
      },
      "outputs": [],
      "source": [
        "model = torch.nn.Sequential(*list(model.children())[:-1])\n"
      ]
    },
    {
      "cell_type": "code",
      "execution_count": null,
      "metadata": {
        "id": "hrDM2lqI-DUZ",
        "outputId": "b126820b-4b6f-48b5-9a28-ddbbaa52c036"
      },
      "outputs": [
        {
          "data": {
            "text/plain": [
              "Sequential(\n",
              "  (0): SimpleStemIN(\n",
              "    (0): Conv2d(3, 32, kernel_size=(3, 3), stride=(2, 2), padding=(1, 1), bias=False)\n",
              "    (1): BatchNorm2d(32, eps=1e-05, momentum=0.1, affine=True, track_running_stats=True)\n",
              "    (2): ReLU(inplace=True)\n",
              "  )\n",
              ")"
            ]
          },
          "execution_count": 43,
          "metadata": {},
          "output_type": "execute_result"
        }
      ],
      "source": [
        "device = torch.device(\"cuda\" if torch.cuda.is_available() else \"cpu\")\n",
        "model.to(device)"
      ]
    },
    {
      "cell_type": "code",
      "execution_count": null,
      "metadata": {
        "id": "kIpEAZzO-DUZ"
      },
      "outputs": [],
      "source": [
        "def extract_features(model, dataloader):\n",
        "    features = []\n",
        "    labels = []\n",
        "\n",
        "    with torch.no_grad():\n",
        "        for inputs, label in dataloader:\n",
        "            inputs = inputs.to(device)\n",
        "\n",
        "            output = model(inputs)\n",
        "\n",
        "            output = output.view(output.size(0), -1)\n",
        "\n",
        "            features.append(output.cpu().numpy())\n",
        "            labels.append(label)\n",
        "\n",
        "    features = np.concatenate(features, axis=0)\n",
        "    labels = np.concatenate(labels, axis=0)\n",
        "\n",
        "    return features, labels"
      ]
    },
    {
      "cell_type": "code",
      "execution_count": null,
      "metadata": {
        "id": "6vToviqp-DUZ"
      },
      "outputs": [],
      "source": [
        "features, labels = extract_features(model, dataloader)\n",
        "\n",
        "print(f\"Shape of extracted features: {features.shape}\")\n",
        "print(f\"Shape of labels: {labels.shape}\")"
      ]
    },
    {
      "cell_type": "code",
      "execution_count": null,
      "metadata": {
        "id": "s-vrK1Ds-DUZ"
      },
      "outputs": [],
      "source": [
        "with open('features.pkl', 'rb') as file:\n",
        "    features = pickle.load(file)\n",
        "\n"
      ]
    },
    {
      "cell_type": "code",
      "execution_count": null,
      "metadata": {
        "id": "RqkBdXnS-DUZ"
      },
      "outputs": [],
      "source": [
        "features = features.reshape((13325, 2048))\n",
        "features.shape\n"
      ]
    },
    {
      "cell_type": "code",
      "execution_count": null,
      "metadata": {
        "id": "jSMhXKdi-DUZ"
      },
      "outputs": [],
      "source": [
        "def build_autoencoder(input_dim, encoding_dim):\n",
        "\n",
        "    input_layer = layers.Input(shape=(input_dim,))\n",
        "    encoded = layers.Dense(512, activation='relu')(input_layer)\n",
        "    encoded = layers.Dense(encoding_dim, activation='relu')(encoded)\n",
        "\n",
        "    decoded = layers.Dense(512, activation='relu')(encoded)\n",
        "    decoded = layers.Dense(input_dim, activation='sigmoid')(decoded)\n",
        "\n",
        "    autoencoder = models.Model(input_layer, decoded)\n",
        "\n",
        "    encoder = models.Model(input_layer, encoded)\n",
        "\n",
        "    encoded_input = layers.Input(shape=(encoding_dim,))\n",
        "    decoder_layer = autoencoder.layers[-2](encoded_input)\n",
        "    decoder_layer = autoencoder.layers[-1](decoder_layer)\n",
        "    decoder = models.Model(encoded_input, decoder_layer)\n",
        "\n",
        "    return autoencoder, encoder, decoder"
      ]
    },
    {
      "cell_type": "code",
      "execution_count": null,
      "metadata": {
        "id": "jTidZsGa-DUa"
      },
      "outputs": [],
      "source": [
        "input_dim = features.shape[1]\n",
        "encoding_dim = 128\n",
        "\n",
        "autoencoder, encoder, decoder = build_autoencoder(input_dim, encoding_dim)\n",
        "\n",
        "autoencoder.compile(optimizer='adam', loss='mse')"
      ]
    },
    {
      "cell_type": "code",
      "execution_count": null,
      "metadata": {
        "id": "jbwdwlpU-DUa"
      },
      "outputs": [],
      "source": [
        "autoencoder.fit(features, features, epochs=50, batch_size=256, shuffle=True, validation_split=0.1)\n"
      ]
    },
    {
      "cell_type": "code",
      "execution_count": null,
      "metadata": {
        "id": "wD2n6SdU-DUa"
      },
      "outputs": [],
      "source": [
        "encoded_features = encoder.predict(features)\n",
        "\n",
        "print(encoded_features.shape)"
      ]
    },
    {
      "cell_type": "code",
      "execution_count": null,
      "metadata": {
        "id": "HWYDCOqh-DUa"
      },
      "outputs": [],
      "source": [
        "encoded_features[0]\n",
        "with open('encoded_features.pkl', 'wb') as f:\n",
        "    pickle.dump(encoded_features, f)\n",
        "\n",
        "print(\"Pickle file created successfully.\")"
      ]
    },
    {
      "cell_type": "code",
      "execution_count": null,
      "metadata": {
        "id": "5IKy6jRy-DUa"
      },
      "outputs": [],
      "source": [
        "################################# done with the autoencoder ####################################################\n"
      ]
    },
    {
      "cell_type": "code",
      "execution_count": null,
      "metadata": {
        "id": "kRix3PHx-DUb"
      },
      "outputs": [],
      "source": [
        "################################# Now next step is : Self-Organizing Map (SOM) , use to make cluster of similar and neighbouring places #######\n"
      ]
    },
    {
      "cell_type": "code",
      "execution_count": 6,
      "metadata": {
        "colab": {
          "base_uri": "https://localhost:8080/"
        },
        "id": "udSBGneq-DUb",
        "outputId": "1ee93615-63b5-46da-c63d-83b1a0e33726"
      },
      "outputs": [
        {
          "output_type": "stream",
          "name": "stdout",
          "text": [
            "Pickled array loaded: (13325, 128)\n"
          ]
        }
      ],
      "source": [
        "with open('encoded_features.pkl', 'rb') as f:\n",
        "    loaded_array = pickle.load(f)\n",
        "\n",
        "print(\"Pickled array loaded:\", loaded_array.shape)"
      ]
    },
    {
      "cell_type": "code",
      "execution_count": 23,
      "metadata": {
        "colab": {
          "base_uri": "https://localhost:8080/"
        },
        "id": "OUbD9A68-DUb",
        "outputId": "05de6dfd-9731-4fe2-a364-a2df3ce58d04"
      },
      "outputs": [
        {
          "output_type": "execute_result",
          "data": {
            "text/plain": [
              "2"
            ]
          },
          "metadata": {},
          "execution_count": 23
        }
      ],
      "source": [
        "loaded_array.ndim"
      ]
    },
    {
      "cell_type": "code",
      "execution_count": 8,
      "metadata": {
        "id": "N7y9kNoM-DUb"
      },
      "outputs": [],
      "source": [
        "#coding starts from working of SOM\n",
        "som_grid_x = 150\n",
        "som_grid_y = 150\n",
        "sigma = 0.5\n",
        "learning_rate = 0.5\n",
        "num_iterations = 25000\n"
      ]
    },
    {
      "cell_type": "code",
      "execution_count": 9,
      "metadata": {
        "id": "o98im03i-DUb"
      },
      "outputs": [],
      "source": [
        "som = MiniSom(x=som_grid_x, y=som_grid_y, input_len=loaded_array.shape[1],\n",
        "              sigma=sigma, learning_rate=learning_rate)\n",
        "som.random_weights_init(loaded_array)"
      ]
    },
    {
      "cell_type": "code",
      "execution_count": 10,
      "metadata": {
        "colab": {
          "base_uri": "https://localhost:8080/"
        },
        "id": "DgPKlj-0-DUb",
        "outputId": "5261ad59-a5a5-4f99-f842-8f9fafdc2805"
      },
      "outputs": [
        {
          "output_type": "stream",
          "name": "stdout",
          "text": [
            "Training SOM...\n",
            "SOM Training Complete.\n"
          ]
        }
      ],
      "source": [
        "# here i will do the training for SOM\n",
        "print(\"Training SOM...\")\n",
        "som.train_random(data=loaded_array, num_iteration=num_iterations)\n",
        "print(\"SOM Training Complete.\")"
      ]
    },
    {
      "cell_type": "code",
      "execution_count": 11,
      "metadata": {
        "colab": {
          "base_uri": "https://localhost:8080/",
          "height": 812
        },
        "id": "Twj9w4qN-DUg",
        "outputId": "bb29037e-12f0-4e31-8266-7adf5820a6d4"
      },
      "outputs": [
        {
          "output_type": "display_data",
          "data": {
            "text/plain": [
              "<Figure size 1000x1000 with 2 Axes>"
            ],
            "image/png": "[encoded data removed]"
          },
          "metadata": {}
        }
      ],
      "source": [
        "u_matrix = som.distance_map()\n",
        "plt.figure(figsize=(10, 10))\n",
        "plt.title(\"SOM U-Matrix\")\n",
        "plt.imshow(u_matrix, cmap='coolwarm')\n",
        "plt.colorbar()\n",
        "plt.show()"
      ]
    },
    {
      "cell_type": "code",
      "source": [
        "num_features = som.get_weights().shape[2]\n",
        "\n",
        "fig, axes = plt.subplots(1, num_features, figsize=(15, 5))\n",
        "for i in range(num_features):\n",
        "    axes[i].imshow(som.get_weights()[:, :, i], cmap='coolwarm')\n",
        "    axes[i].set_title(f'Feature {i+1}')\n",
        "plt.show()"
      ],
      "metadata": {
        "colab": {
          "base_uri": "https://localhost:8080/",
          "height": 90
        },
        "id": "69eQOhWjKWHc",
        "outputId": "3b829b19-0d49-4361-fbae-cbaef20ad25c"
      },
      "execution_count": 18,
      "outputs": [
        {
          "output_type": "display_data",
          "data": {
            "text/plain": [
              "<Figure size 1500x500 with 128 Axes>"
            ],
            "image/png": "[encoded data removed]"
          },
          "metadata": {}
        }
      ]
    },
    {
      "cell_type": "code",
      "source": [
        "import networkx as nx\n",
        "G = nx.Graph()\n",
        "\n",
        "for x in range(som.get_weights().shape[0]):\n",
        "    for y in range(som.get_weights().shape[1]):\n",
        "        G.add_node((x, y))\n",
        "for x in range(som.get_weights().shape[0]):\n",
        "    for y in range(som.get_weights().shape[1]):\n",
        "        if x > 0:\n",
        "            G.add_edge((x, y), (x-1, y))\n",
        "        if y > 0:\n",
        "            G.add_edge((x, y), (x, y-1))\n",
        "        if x < som.get_weights().shape[0] - 1:\n",
        "            G.add_edge((x, y), (x+1, y))\n",
        "        if y < som.get_weights().shape[1] - 1:\n",
        "            G.add_edge((x, y), (x, y+1))"
      ],
      "metadata": {
        "id": "7ToYkBMFSX0D"
      },
      "execution_count": 28,
      "outputs": []
    },
    {
      "cell_type": "code",
      "source": [
        "test_input = loaded_array[8].flatten()\n",
        "winner_node = som.winner(test_input)\n",
        "print(f\"Winner node for the test input: {winner_node}\")\n"
      ],
      "metadata": {
        "colab": {
          "base_uri": "https://localhost:8080/"
        },
        "id": "aBVaZpDBSktI",
        "outputId": "978f3960-c67b-4ebb-cd46-bc87dcd1a771"
      },
      "execution_count": 29,
      "outputs": [
        {
          "output_type": "stream",
          "name": "stdout",
          "text": [
            "Winner node for the test input: (92, 5)\n"
          ]
        }
      ]
    },
    {
      "cell_type": "code",
      "source": [
        "neighbors = list(G.neighbors(winner_node))\n",
        "print(f\"Neighbors of winner node {winner_node}: {neighbors}\")"
      ],
      "metadata": {
        "colab": {
          "base_uri": "https://localhost:8080/"
        },
        "id": "kG3p259aSqGr",
        "outputId": "ffbe1ae2-7d10-4f0e-a5a1-5112ecf6949c"
      },
      "execution_count": 30,
      "outputs": [
        {
          "output_type": "stream",
          "name": "stdout",
          "text": [
            "Neighbors of winner node (92, 5): [(91, 5), (92, 4), (93, 5), (92, 6)]\n"
          ]
        }
      ]
    },
    {
      "cell_type": "code",
      "source": [
        "subgraph_nodes = [winner_node] + neighbors\n",
        "H = G.subgraph(subgraph_nodes)\n",
        "\n",
        "# Draw the subgraph\n",
        "plt.figure(figsize=(6, 6))\n",
        "nx.draw(H, with_labels=True, node_size=500, node_color='skyblue', font_size=10)\n",
        "plt.title(\"Winner Node and Neighbors\")\n",
        "plt.show()"
      ],
      "metadata": {
        "colab": {
          "base_uri": "https://localhost:8080/",
          "height": 659
        },
        "id": "hvpCvxP8Z3tb",
        "outputId": "6880e4b6-ae3c-4af9-eaf1-f4684118e510"
      },
      "execution_count": 33,
      "outputs": [
        {
          "output_type": "display_data",
          "data": {
            "text/plain": [
              "<Figure size 600x600 with 1 Axes>"
            ],
            "image/png": "[encoded data removed]"
          },
          "metadata": {}
        }
      ]
    },
    {
      "cell_type": "code",
      "source": [],
      "metadata": {
        "id": "J6remqk4kdcV"
      },
      "execution_count": null,
      "outputs": []
    },
    {
      "cell_type": "code",
      "source": [
        "test_input = loaded_array[2].flatten()\n",
        "winner_node = som.winner(test_input)\n",
        "print(f\"Winner node for the test input: {winner_node}\")\n"
      ],
      "metadata": {
        "colab": {
          "base_uri": "https://localhost:8080/"
        },
        "outputId": "13e81b75-9d59-4f9d-cf7e-add22eb32620",
        "id": "jRlbTIeqkdvr"
      },
      "execution_count": 52,
      "outputs": [
        {
          "output_type": "stream",
          "name": "stdout",
          "text": [
            "Winner node for the test input: (20, 138)\n"
          ]
        }
      ]
    },
    {
      "cell_type": "code",
      "source": [
        "neighbors = list(G.neighbors(winner_node))\n",
        "print(f\"Neighbors of winner node {winner_node}: {neighbors}\")"
      ],
      "metadata": {
        "colab": {
          "base_uri": "https://localhost:8080/"
        },
        "outputId": "42d3e130-1e6f-4a10-de00-9cb524c9cadc",
        "id": "FeLZePL1kdvr"
      },
      "execution_count": 53,
      "outputs": [
        {
          "output_type": "stream",
          "name": "stdout",
          "text": [
            "Neighbors of winner node (20, 138): [(19, 138), (20, 137), (21, 138), (20, 139)]\n"
          ]
        }
      ]
    },
    {
      "cell_type": "code",
      "source": [
        "subgraph_nodes = [winner_node] + neighbors\n",
        "H = G.subgraph(subgraph_nodes)\n",
        "\n",
        "# Draw the subgraph\n",
        "plt.figure(figsize=(6, 6))\n",
        "nx.draw(H, with_labels=True, node_size=500, node_color='skyblue', font_size=10)\n",
        "plt.title(\"Winner Node and Neighbors\")\n",
        "plt.show()"
      ],
      "metadata": {
        "outputId": "9007b5da-b0af-4899-cffc-fc76cb2dd046",
        "colab": {
          "base_uri": "https://localhost:8080/",
          "height": 659
        },
        "id": "v8M4AdBJkdvr"
      },
      "execution_count": 54,
      "outputs": [
        {
          "output_type": "display_data",
          "data": {
            "text/plain": [
              "<Figure size 600x600 with 1 Axes>"
            ],
            "image/png": "[encoded data removed]"
          },
          "metadata": {}
        }
      ]
    },
    {
      "cell_type": "code",
      "source": [],
      "metadata": {
        "id": "3NjaYyv7kmBL"
      },
      "execution_count": null,
      "outputs": []
    },
    {
      "cell_type": "code",
      "source": [
        "test_input = loaded_array[45].flatten()\n",
        "winner_node = som.winner(test_input)\n",
        "print(f\"Winner node for the test input: {winner_node}\")\n"
      ],
      "metadata": {
        "colab": {
          "base_uri": "https://localhost:8080/"
        },
        "outputId": "012aa808-6a41-478c-a288-e8af2dc9c775",
        "id": "POsLi79YkmSE"
      },
      "execution_count": 56,
      "outputs": [
        {
          "output_type": "stream",
          "name": "stdout",
          "text": [
            "Winner node for the test input: (99, 125)\n"
          ]
        }
      ]
    },
    {
      "cell_type": "code",
      "source": [
        "neighbors = list(G.neighbors(winner_node))\n",
        "print(f\"Neighbors of winner node {winner_node}: {neighbors}\")"
      ],
      "metadata": {
        "colab": {
          "base_uri": "https://localhost:8080/"
        },
        "outputId": "2b470d2c-1554-41a4-84e0-9a9479f410c9",
        "id": "9RzOBCoCkmSF"
      },
      "execution_count": 57,
      "outputs": [
        {
          "output_type": "stream",
          "name": "stdout",
          "text": [
            "Neighbors of winner node (99, 125): [(98, 125), (99, 124), (100, 125), (99, 126)]\n"
          ]
        }
      ]
    },
    {
      "cell_type": "code",
      "source": [
        "subgraph_nodes = [winner_node] + neighbors\n",
        "H = G.subgraph(subgraph_nodes)\n",
        "\n",
        "# Draw the subgraph\n",
        "plt.figure(figsize=(6, 6))\n",
        "nx.draw(H, with_labels=True, node_size=500, node_color='skyblue', font_size=10)\n",
        "plt.title(\"Winner Node and Neighbors\")\n",
        "plt.show()"
      ],
      "metadata": {
        "outputId": "5330edd7-bd14-411e-c228-353bbe420cdf",
        "colab": {
          "base_uri": "https://localhost:8080/",
          "height": 659
        },
        "id": "pILja7xhkmSF"
      },
      "execution_count": 58,
      "outputs": [
        {
          "output_type": "display_data",
          "data": {
            "text/plain": [
              "<Figure size 600x600 with 1 Axes>"
            ],
            "image/png": "[encoded data removed]"
          },
          "metadata": {}
        }
      ]
    },
    {
      "cell_type": "code",
      "source": [
        "import numpy as np\n",
        "from sklearn.metrics import accuracy_score\n",
        "from collections import Counter\n",
        "\n",
        "winning_nodes = np.array([som.winner(x) for x in loaded_array])\n",
        "\n"
      ],
      "metadata": {
        "id": "PMMeMtPqbzVP"
      },
      "execution_count": 55,
      "outputs": []
    },
    {
      "cell_type": "code",
      "source": [
        "winning_nodes.shape"
      ],
      "metadata": {
        "colab": {
          "base_uri": "https://localhost:8080/"
        },
        "id": "kG_hIwI3e5yL",
        "outputId": "7d83e901-4060-4ce4-ba41-1f1420313184"
      },
      "execution_count": 43,
      "outputs": [
        {
          "output_type": "execute_result",
          "data": {
            "text/plain": [
              "(13325, 2)"
            ]
          },
          "metadata": {},
          "execution_count": 43
        }
      ]
    },
    {
      "cell_type": "code",
      "source": [
        "from sklearn.cluster import KMeans\n",
        "from sklearn.metrics import silhouette_score\n",
        "\n",
        "\n",
        "kmeans = KMeans(n_clusters=50)\n",
        "kmeans.fit(loaded_array)\n",
        "\n",
        "kmeans_labels = kmeans.labels_\n",
        "\n",
        "silhouette_avg_kmeans = silhouette_score(loaded_array, kmeans_labels)\n",
        "print(f\"Silhouette Score for K-Means: {silhouette_avg_kmeans}\")"
      ],
      "metadata": {
        "colab": {
          "base_uri": "https://localhost:8080/"
        },
        "id": "CCUpoawxd2MN",
        "outputId": "48976d62-8e91-416e-ea91-b3398a94cd1d"
      },
      "execution_count": 50,
      "outputs": [
        {
          "output_type": "stream",
          "name": "stdout",
          "text": [
            "Silhouette Score for K-Means: 0.0492166243493557\n"
          ]
        }
      ]
    },
    {
      "cell_type": "code",
      "source": [
        "from sklearn.metrics import davies_bouldin_score\n",
        "\n",
        "db_index = davies_bouldin_score(loaded_array, kmeans_labels)\n",
        "print(f\"Error rate is: {db_index:.2f}\")"
      ],
      "metadata": {
        "colab": {
          "base_uri": "https://localhost:8080/"
        },
        "id": "EE9sKY-ckJA9",
        "outputId": "fbea9161-4bad-4ef2-a8ab-4b480365bbd8"
      },
      "execution_count": 51,
      "outputs": [
        {
          "output_type": "stream",
          "name": "stdout",
          "text": [
            "Davies-Bouldin Index: 2.91\n"
          ]
        }
      ]
    },
    {
      "cell_type": "code",
      "execution_count": null,
      "metadata": {
        "id": "7OgXmFNs-DUg"
      },
      "outputs": [],
      "source": [
        "image_labels = []\n",
        "for feature in loaded_array:\n",
        "    winner_node = som.winner(feature)\n",
        "    image_labels.append(winner_node)\n"
      ]
    },
    {
      "cell_type": "code",
      "execution_count": null,
      "metadata": {
        "id": "aJYiz4NX-DUg"
      },
      "outputs": [],
      "source": [
        "image_labels = np.array(image_labels)\n",
        "print(f\"Image labels assigned to SOM nodes: {image_labels.shape}\")"
      ]
    },
    {
      "cell_type": "code",
      "execution_count": null,
      "metadata": {
        "id": "OJZzhXyN-DUg"
      },
      "outputs": [],
      "source": [
        "quantization_error = som.quantization_error(loaded_array)\n",
        "print(f\"Quantization Error: {quantization_error:.4f}\")"
      ]
    },
    {
      "cell_type": "code",
      "execution_count": null,
      "metadata": {
        "id": "htSJMq3t-DUg"
      },
      "outputs": [],
      "source": [
        "with open('After_SOM_Data.pkl', 'wb') as m:\n",
        "    loaded_array1 = pickle.dump(image_labels,m)"
      ]
    },
    {
      "cell_type": "code",
      "execution_count": null,
      "metadata": {
        "id": "ubzf2umO-DUg"
      },
      "outputs": [],
      "source": [
        "image_labels"
      ]
    },
    {
      "cell_type": "code",
      "execution_count": null,
      "metadata": {
        "id": "23vp_LeP-DUh"
      },
      "outputs": [],
      "source": [
        "image_labels.shape"
      ]
    },
    {
      "cell_type": "code",
      "execution_count": null,
      "metadata": {
        "id": "rKMadAco-DUh"
      },
      "outputs": [],
      "source": [
        "import pickle\n",
        "with open('After_SOM_Data.pkl', 'rb') as m:\n",
        "    loaded_array2 = pickle.load(m)"
      ]
    },
    {
      "cell_type": "code",
      "execution_count": null,
      "metadata": {
        "id": "ZB93AwRB-DUh",
        "outputId": "8ebb0c26-c691-43c5-f4c0-05e289ba0d25"
      },
      "outputs": [
        {
          "data": {
            "text/plain": [
              "(406, 2)"
            ]
          },
          "execution_count": 6,
          "metadata": {},
          "output_type": "execute_result"
        }
      ],
      "source": [
        "loaded_array2.shape"
      ]
    },
    {
      "cell_type": "code",
      "execution_count": null,
      "metadata": {
        "id": "gLbVtTPr-DUh"
      },
      "outputs": [],
      "source": [
        "################################### Now next step is working on inserting new image and by extracting feature from image , preprocess it,\n",
        "################################### then main thing finding the best matching unit and apply localization"
      ]
    },
    {
      "cell_type": "code",
      "execution_count": null,
      "metadata": {
        "id": "DXEm6mhL-DUh",
        "outputId": "8381e011-1941-421d-d489-624369c3d76f"
      },
      "outputs": [
        {
          "data": {
            "text/plain": [
              "array([[118, 115],\n",
              "       [ 23,   1],\n",
              "       [102, 122],\n",
              "       [ 36,  63],\n",
              "       [  6,  76],\n",
              "       [102, 129],\n",
              "       [117, 109],\n",
              "       [ 40,  64],\n",
              "       [ 69, 142],\n",
              "       [115,  26],\n",
              "       [ 94, 143],\n",
              "       [112, 133],\n",
              "       [ 75, 109],\n",
              "       [142, 106],\n",
              "       [ 56, 106],\n",
              "       [ 41,  39],\n",
              "       [111,  69],\n",
              "       [ 16, 144],\n",
              "       [ 51, 112],\n",
              "       [ 33,  86],\n",
              "       [103,  32],\n",
              "       [ 78,   4],\n",
              "       [ 39, 124],\n",
              "       [  1, 124],\n",
              "       [ 40,  92],\n",
              "       [ 89, 122],\n",
              "       [125,  32],\n",
              "       [ 76,  61],\n",
              "       [ 67,  45],\n",
              "       [ 20,  20],\n",
              "       [139,   8],\n",
              "       [ 57,  56],\n",
              "       [132, 125],\n",
              "       [ 72, 122],\n",
              "       [ 29,  32],\n",
              "       [127,  55],\n",
              "       [  3,  91],\n",
              "       [ 24, 144],\n",
              "       [ 35,  82],\n",
              "       [ 26,  31],\n",
              "       [ 71,  38],\n",
              "       [125, 145],\n",
              "       [ 94,  50],\n",
              "       [120,  46],\n",
              "       [ 15, 118],\n",
              "       [ 11, 143],\n",
              "       [ 71,  80],\n",
              "       [104,  65],\n",
              "       [ 28, 143],\n",
              "       [ 56, 106],\n",
              "       [ 65,  11],\n",
              "       [ 17,  33],\n",
              "       [ 15,  58],\n",
              "       [ 92, 132],\n",
              "       [ 22, 123],\n",
              "       [128, 147],\n",
              "       [ 69,   0],\n",
              "       [ 55,  13],\n",
              "       [ 77,  33],\n",
              "       [ 48,  40],\n",
              "       [  0,  63],\n",
              "       [ 93, 136],\n",
              "       [  6, 108],\n",
              "       [ 91, 114],\n",
              "       [124,  50],\n",
              "       [106,  63],\n",
              "       [ 12,  69],\n",
              "       [ 67,   1],\n",
              "       [128,  55],\n",
              "       [126, 127],\n",
              "       [ 39, 132],\n",
              "       [ 20,  60],\n",
              "       [ 78, 137],\n",
              "       [118, 129],\n",
              "       [ 25,  72],\n",
              "       [ 29,  42],\n",
              "       [ 20,  17],\n",
              "       [ 74,  67],\n",
              "       [115,  88],\n",
              "       [ 11,  14],\n",
              "       [ 55,  87],\n",
              "       [ 33,  49],\n",
              "       [ 37,  18],\n",
              "       [138, 135],\n",
              "       [ 52,  30],\n",
              "       [100,  43],\n",
              "       [113,  93],\n",
              "       [125, 121],\n",
              "       [ 64,  93],\n",
              "       [ 81,  30],\n",
              "       [131, 106],\n",
              "       [102,   2],\n",
              "       [ 57, 128],\n",
              "       [ 50,  92],\n",
              "       [125,  24],\n",
              "       [123,  87],\n",
              "       [ 99,  83],\n",
              "       [ 34,  61],\n",
              "       [ 24,  46],\n",
              "       [114,  10],\n",
              "       [ 13,  40],\n",
              "       [143, 104],\n",
              "       [ 34,  37],\n",
              "       [ 44, 126],\n",
              "       [ 43, 144],\n",
              "       [130,  68],\n",
              "       [ 42,  37],\n",
              "       [ 93,  44],\n",
              "       [113,  49],\n",
              "       [147,  59],\n",
              "       [103, 127],\n",
              "       [ 90,  22],\n",
              "       [ 80,  18],\n",
              "       [ 99,  53],\n",
              "       [ 70, 107],\n",
              "       [ 64,  48],\n",
              "       [111, 108],\n",
              "       [112,  97],\n",
              "       [ 63, 144],\n",
              "       [ 58,  13],\n",
              "       [  5,  67],\n",
              "       [145,  35],\n",
              "       [ 36,  63],\n",
              "       [126, 147],\n",
              "       [127,  88],\n",
              "       [ 85, 116],\n",
              "       [ 84,  37],\n",
              "       [115, 144],\n",
              "       [  1,  25],\n",
              "       [111, 118],\n",
              "       [  0, 144],\n",
              "       [ 72,  71],\n",
              "       [ 79,  62],\n",
              "       [115, 146],\n",
              "       [ 66, 130],\n",
              "       [ 64, 135],\n",
              "       [ 37, 143],\n",
              "       [122, 118],\n",
              "       [ 52, 130],\n",
              "       [ 24, 102],\n",
              "       [ 99, 141],\n",
              "       [ 35,  74],\n",
              "       [ 60, 144],\n",
              "       [ 90, 129],\n",
              "       [ 67,  68],\n",
              "       [147,  64],\n",
              "       [ 56,  80],\n",
              "       [ 80,  77],\n",
              "       [147,  90],\n",
              "       [ 43,   1],\n",
              "       [ 57,  51],\n",
              "       [ 97,   0],\n",
              "       [ 66, 101],\n",
              "       [ 97,   0],\n",
              "       [ 37,  58],\n",
              "       [ 19,  64],\n",
              "       [ 36,   9],\n",
              "       [ 75,   0],\n",
              "       [ 53, 133],\n",
              "       [103, 135],\n",
              "       [136,  49],\n",
              "       [ 38,  56],\n",
              "       [ 10, 101],\n",
              "       [ 68, 129],\n",
              "       [139, 107],\n",
              "       [123,  95],\n",
              "       [ 69, 123],\n",
              "       [  6,   0],\n",
              "       [ 11,  85],\n",
              "       [ 98, 137],\n",
              "       [ 71, 100],\n",
              "       [129,   9],\n",
              "       [  7,  33],\n",
              "       [107, 149],\n",
              "       [ 97,   0],\n",
              "       [ 93,  39],\n",
              "       [104, 131],\n",
              "       [ 21,   9],\n",
              "       [ 15,  23],\n",
              "       [ 14, 142],\n",
              "       [ 85,  41],\n",
              "       [  4,  28],\n",
              "       [ 89,  42],\n",
              "       [  1,  95],\n",
              "       [  0,  45],\n",
              "       [ 62, 105],\n",
              "       [ 87,   0],\n",
              "       [ 96,  83],\n",
              "       [ 50,  74],\n",
              "       [ 64,  70],\n",
              "       [ 95,  71],\n",
              "       [145,  39],\n",
              "       [  9,  20],\n",
              "       [145,  23],\n",
              "       [144,  71],\n",
              "       [ 33,   2],\n",
              "       [107,  44],\n",
              "       [143, 141],\n",
              "       [ 97, 103],\n",
              "       [119,   2],\n",
              "       [116, 147],\n",
              "       [ 19,  21],\n",
              "       [117,  57],\n",
              "       [ 47, 104],\n",
              "       [ 76,  98],\n",
              "       [ 49,  88],\n",
              "       [146, 134],\n",
              "       [ 35,  97],\n",
              "       [ 83, 132],\n",
              "       [ 81,  99],\n",
              "       [ 33, 115],\n",
              "       [ 72,  69],\n",
              "       [ 97, 108],\n",
              "       [124, 120],\n",
              "       [127,  45],\n",
              "       [124, 120],\n",
              "       [124, 120],\n",
              "       [ 83, 147],\n",
              "       [ 91, 105],\n",
              "       [127,  45],\n",
              "       [128, 132],\n",
              "       [124, 120],\n",
              "       [115,  89],\n",
              "       [ 52, 141],\n",
              "       [ 75, 105],\n",
              "       [ 30, 135],\n",
              "       [128, 102],\n",
              "       [ 51,  62],\n",
              "       [ 36,  43],\n",
              "       [124, 120],\n",
              "       [  4, 131],\n",
              "       [145, 107],\n",
              "       [ 82, 139],\n",
              "       [100,  29],\n",
              "       [130,   4],\n",
              "       [149,  45],\n",
              "       [ 56,  15],\n",
              "       [ 97, 144],\n",
              "       [ 45, 130],\n",
              "       [ 39,  12],\n",
              "       [ 43, 135],\n",
              "       [  8,  81],\n",
              "       [ 55,  42],\n",
              "       [  1,  63],\n",
              "       [ 92,  24],\n",
              "       [ 24,  89],\n",
              "       [ 54,  50],\n",
              "       [137, 140],\n",
              "       [132,  20],\n",
              "       [ 22,  91],\n",
              "       [ 30,  25],\n",
              "       [ 41,  81],\n",
              "       [ 62, 107],\n",
              "       [123, 147],\n",
              "       [  1,  63],\n",
              "       [ 80, 127],\n",
              "       [ 64,  96],\n",
              "       [ 79,  75],\n",
              "       [  1,  63],\n",
              "       [ 62, 111],\n",
              "       [106, 135],\n",
              "       [ 37,  29],\n",
              "       [ 97,  79],\n",
              "       [ 33,  89],\n",
              "       [ 81, 141],\n",
              "       [ 70,  59],\n",
              "       [149,  17],\n",
              "       [ 37, 130],\n",
              "       [123,  51],\n",
              "       [ 88,  73],\n",
              "       [138,  95],\n",
              "       [ 64,   5],\n",
              "       [ 35,  98],\n",
              "       [ 22,  53],\n",
              "       [ 19,   3],\n",
              "       [ 65,  72],\n",
              "       [112, 149],\n",
              "       [148, 105],\n",
              "       [111,  77],\n",
              "       [ 93, 117],\n",
              "       [ 17, 117],\n",
              "       [ 80,  89],\n",
              "       [ 20,  89],\n",
              "       [ 20,  89],\n",
              "       [ 10,  34],\n",
              "       [ 17, 116],\n",
              "       [129,  20],\n",
              "       [ 48,  25],\n",
              "       [ 17, 105],\n",
              "       [ 38, 120],\n",
              "       [136,  67],\n",
              "       [ 17, 145],\n",
              "       [ 92,  29],\n",
              "       [ 64, 148],\n",
              "       [ 80, 102],\n",
              "       [ 67,  88],\n",
              "       [  7,  59],\n",
              "       [131,  86],\n",
              "       [ 76,   0],\n",
              "       [ 57,  54],\n",
              "       [136,  97],\n",
              "       [  2,  68],\n",
              "       [114,  60],\n",
              "       [ 96,  81],\n",
              "       [ 82,  96],\n",
              "       [123,  86],\n",
              "       [ 82,  96],\n",
              "       [  6,  19],\n",
              "       [ 31, 112],\n",
              "       [ 42, 133],\n",
              "       [ 54,   1],\n",
              "       [127, 133],\n",
              "       [ 90,  42],\n",
              "       [ 18,  77],\n",
              "       [ 11,  44],\n",
              "       [  4, 148],\n",
              "       [ 47,  77],\n",
              "       [141,  58],\n",
              "       [ 69, 118],\n",
              "       [ 68, 145],\n",
              "       [ 72, 103],\n",
              "       [ 99, 103],\n",
              "       [  6, 102],\n",
              "       [ 31,  58],\n",
              "       [ 92,  35],\n",
              "       [ 87,  99],\n",
              "       [ 69,  48],\n",
              "       [ 26,  99],\n",
              "       [ 23, 147],\n",
              "       [ 59,  81],\n",
              "       [ 30,   8],\n",
              "       [107, 136],\n",
              "       [ 88,  88],\n",
              "       [ 13, 141],\n",
              "       [147,  60],\n",
              "       [ 33,  39],\n",
              "       [ 84, 142],\n",
              "       [  2,  39],\n",
              "       [136, 124],\n",
              "       [ 91,  61],\n",
              "       [ 97,  18],\n",
              "       [ 73,  10],\n",
              "       [116,  18],\n",
              "       [133, 100],\n",
              "       [119,  95],\n",
              "       [116,  47],\n",
              "       [ 12,  20],\n",
              "       [ 86, 121],\n",
              "       [ 41, 105],\n",
              "       [ 40,  42],\n",
              "       [ 83, 123],\n",
              "       [ 68,  19],\n",
              "       [ 79,  80],\n",
              "       [ 39,  54],\n",
              "       [ 39, 118],\n",
              "       [130,  12],\n",
              "       [ 41,  45],\n",
              "       [ 58,  15],\n",
              "       [ 12,  70],\n",
              "       [ 23,  58],\n",
              "       [ 59, 139],\n",
              "       [ 19, 126],\n",
              "       [ 80,  48],\n",
              "       [146,  57],\n",
              "       [ 37,   0],\n",
              "       [ 79, 144],\n",
              "       [146,  57],\n",
              "       [ 25,  49],\n",
              "       [ 11,  62],\n",
              "       [116,  89],\n",
              "       [ 73,  81],\n",
              "       [ 63, 115],\n",
              "       [ 60,  28],\n",
              "       [ 57,  50],\n",
              "       [ 65,  61],\n",
              "       [ 97, 106],\n",
              "       [148,  74],\n",
              "       [ 92,  59],\n",
              "       [113,  49],\n",
              "       [ 19,  24],\n",
              "       [126,  95],\n",
              "       [ 37,  71],\n",
              "       [ 89,  58],\n",
              "       [ 39,  54],\n",
              "       [ 16,  56],\n",
              "       [ 80,   5],\n",
              "       [139, 125],\n",
              "       [ 24, 138],\n",
              "       [ 63,  36],\n",
              "       [ 30, 107],\n",
              "       [  6,  91],\n",
              "       [119, 104],\n",
              "       [ 71,  13],\n",
              "       [138, 113],\n",
              "       [110,  84],\n",
              "       [101, 107],\n",
              "       [ 58,  51],\n",
              "       [105,  23],\n",
              "       [109,  15],\n",
              "       [  9,   5],\n",
              "       [140, 141],\n",
              "       [118,  62],\n",
              "       [132,  71],\n",
              "       [ 75, 140],\n",
              "       [ 58,  17],\n",
              "       [ 76, 102]])"
            ]
          },
          "execution_count": 8,
          "metadata": {},
          "output_type": "execute_result"
        }
      ],
      "source": [
        "loaded_array2\n"
      ]
    },
    {
      "cell_type": "code",
      "execution_count": null,
      "metadata": {
        "id": "nxvYAB01-DUh"
      },
      "outputs": [],
      "source": [
        "################################### Putting all images in a doctionary and then giving names to them like place 1 and so on\n",
        "\n",
        "x = 150\n",
        "y = 150\n"
      ]
    },
    {
      "cell_type": "code",
      "execution_count": null,
      "metadata": {
        "id": "sVVZeBbW-DUi"
      },
      "outputs": [],
      "source": [
        "def generate_sequential_locations(x, y):\n",
        "    locations = {}\n",
        "    place_number = 1\n",
        "\n",
        "    for x in range(x):\n",
        "        for y in range(y):\n",
        "            locations[(x, y)] = f\"Place {place_number}\"\n",
        "            place_number += 1\n",
        "\n",
        "    return locations"
      ]
    },
    {
      "cell_type": "code",
      "execution_count": null,
      "metadata": {
        "id": "Q6p1zBTo-DUi"
      },
      "outputs": [],
      "source": [
        "locations = generate_sequential_locations(x, y)"
      ]
    },
    {
      "cell_type": "code",
      "execution_count": null,
      "metadata": {
        "id": "oGiD9Zet-DUi",
        "outputId": "9dd1730f-843f-4df4-a3f8-01e8875e7c1f"
      },
      "outputs": [
        {
          "data": {
            "text/plain": [
              "'Place 303'"
            ]
          },
          "execution_count": 12,
          "metadata": {},
          "output_type": "execute_result"
        }
      ],
      "source": [
        "locations[(2,3)]"
      ]
    },
    {
      "cell_type": "code",
      "execution_count": null,
      "metadata": {
        "id": "tfBdy7NE-DUi"
      },
      "outputs": [],
      "source": [
        "mapped_locations = {}\n",
        "place_number = 1\n",
        "for coord in loaded_array2:\n",
        "    x, y = coord\n",
        "    if (x, y) in locations:\n",
        "        mapped_locations[(x, y)] = f\"Place {place_number}\"\n",
        "        place_number = place_number+1\n",
        "\n",
        "    else:\n",
        "        mapped_locations[\"Unknown\"] = f\"Place {place_number}\"\n",
        "\n",
        "        place_number = place_number+1\n",
        "\n"
      ]
    },
    {
      "cell_type": "code",
      "execution_count": null,
      "metadata": {
        "id": "1BKH9qFT-DUi"
      },
      "outputs": [],
      "source": [
        "\n",
        "for key in list(mapped_locations.keys()):\n",
        "    if \"Unknown\" in key:\n",
        "        del mapped_locations[key]"
      ]
    },
    {
      "cell_type": "code",
      "execution_count": null,
      "metadata": {
        "id": "naNWPJOU-DUi",
        "outputId": "6fda5f65-4ba4-4d24-c35c-b9da6a2be3a3"
      },
      "outputs": [
        {
          "data": {
            "text/plain": [
              "{(np.int64(23), np.int64(1)): 'Place 2',\n",
              " (np.int64(36), np.int64(63)): 'Place 123',\n",
              " (np.int64(6), np.int64(76)): 'Place 5',\n",
              " (np.int64(40), np.int64(64)): 'Place 8',\n",
              " (np.int64(115), np.int64(26)): 'Place 10',\n",
              " (np.int64(41), np.int64(39)): 'Place 16',\n",
              " (np.int64(33), np.int64(86)): 'Place 20',\n",
              " (np.int64(103), np.int64(32)): 'Place 21',\n",
              " (np.int64(78), np.int64(4)): 'Place 22',\n",
              " (np.int64(1), np.int64(124)): 'Place 24',\n",
              " (np.int64(40), np.int64(92)): 'Place 25',\n",
              " (np.int64(76), np.int64(61)): 'Place 28',\n",
              " (np.int64(67), np.int64(45)): 'Place 29',\n",
              " (np.int64(20), np.int64(20)): 'Place 30',\n",
              " (np.int64(139), np.int64(8)): 'Place 31',\n",
              " (np.int64(57), np.int64(56)): 'Place 32',\n",
              " (np.int64(29), np.int64(32)): 'Place 35',\n",
              " (np.int64(3), np.int64(91)): 'Place 37',\n",
              " (np.int64(35), np.int64(82)): 'Place 39',\n",
              " (np.int64(26), np.int64(31)): 'Place 40',\n",
              " (np.int64(71), np.int64(38)): 'Place 41',\n",
              " (np.int64(94), np.int64(50)): 'Place 43',\n",
              " (np.int64(15), np.int64(118)): 'Place 45',\n",
              " (np.int64(65), np.int64(11)): 'Place 51',\n",
              " (np.int64(17), np.int64(33)): 'Place 52',\n",
              " (np.int64(15), np.int64(58)): 'Place 53',\n",
              " (np.int64(22), np.int64(123)): 'Place 55',\n",
              " (np.int64(69), np.int64(0)): 'Place 57',\n",
              " (np.int64(55), np.int64(13)): 'Place 58',\n",
              " (np.int64(77), np.int64(33)): 'Place 59',\n",
              " (np.int64(48), np.int64(40)): 'Place 60',\n",
              " (np.int64(0), np.int64(63)): 'Place 61',\n",
              " (np.int64(6), np.int64(108)): 'Place 63',\n",
              " (np.int64(12), np.int64(69)): 'Place 67',\n",
              " (np.int64(67), np.int64(1)): 'Place 68',\n",
              " (np.int64(20), np.int64(60)): 'Place 72',\n",
              " (np.int64(25), np.int64(72)): 'Place 75',\n",
              " (np.int64(29), np.int64(42)): 'Place 76',\n",
              " (np.int64(20), np.int64(17)): 'Place 77',\n",
              " (np.int64(74), np.int64(67)): 'Place 78',\n",
              " (np.int64(11), np.int64(14)): 'Place 80',\n",
              " (np.int64(55), np.int64(87)): 'Place 81',\n",
              " (np.int64(33), np.int64(49)): 'Place 82',\n",
              " (np.int64(37), np.int64(18)): 'Place 83',\n",
              " (np.int64(52), np.int64(30)): 'Place 85',\n",
              " (np.int64(100), np.int64(43)): 'Place 86',\n",
              " (np.int64(81), np.int64(30)): 'Place 90',\n",
              " (np.int64(102), np.int64(2)): 'Place 92',\n",
              " (np.int64(50), np.int64(92)): 'Place 94',\n",
              " (np.int64(125), np.int64(24)): 'Place 95',\n",
              " (np.int64(34), np.int64(61)): 'Place 98',\n",
              " (np.int64(24), np.int64(46)): 'Place 99',\n",
              " (np.int64(114), np.int64(10)): 'Place 100',\n",
              " (np.int64(13), np.int64(40)): 'Place 101',\n",
              " (np.int64(34), np.int64(37)): 'Place 103',\n",
              " (np.int64(42), np.int64(37)): 'Place 107',\n",
              " (np.int64(93), np.int64(44)): 'Place 108',\n",
              " (np.int64(90), np.int64(22)): 'Place 112',\n",
              " (np.int64(80), np.int64(18)): 'Place 113',\n",
              " (np.int64(64), np.int64(48)): 'Place 116',\n",
              " (np.int64(58), np.int64(13)): 'Place 120',\n",
              " (np.int64(5), np.int64(67)): 'Place 121',\n",
              " (np.int64(84), np.int64(37)): 'Place 127',\n",
              " (np.int64(1), np.int64(25)): 'Place 129',\n",
              " (np.int64(0), np.int64(144)): 'Place 131',\n",
              " (np.int64(72), np.int64(71)): 'Place 132',\n",
              " (np.int64(79), np.int64(62)): 'Place 133',\n",
              " (np.int64(24), np.int64(102)): 'Place 140',\n",
              " (np.int64(35), np.int64(74)): 'Place 142',\n",
              " (np.int64(67), np.int64(68)): 'Place 145',\n",
              " (np.int64(56), np.int64(80)): 'Place 147',\n",
              " (np.int64(43), np.int64(1)): 'Place 150',\n",
              " (np.int64(57), np.int64(51)): 'Place 151',\n",
              " (np.int64(97), np.int64(0)): 'Place 175',\n",
              " (np.int64(37), np.int64(58)): 'Place 155',\n",
              " (np.int64(19), np.int64(64)): 'Place 156',\n",
              " (np.int64(36), np.int64(9)): 'Place 157',\n",
              " (np.int64(75), np.int64(0)): 'Place 158',\n",
              " (np.int64(38), np.int64(56)): 'Place 162',\n",
              " (np.int64(10), np.int64(101)): 'Place 163',\n",
              " (np.int64(6), np.int64(0)): 'Place 168',\n",
              " (np.int64(11), np.int64(85)): 'Place 169',\n",
              " (np.int64(129), np.int64(9)): 'Place 172',\n",
              " (np.int64(7), np.int64(33)): 'Place 173',\n",
              " (np.int64(93), np.int64(39)): 'Place 176',\n",
              " (np.int64(21), np.int64(9)): 'Place 178',\n",
              " (np.int64(15), np.int64(23)): 'Place 179',\n",
              " (np.int64(85), np.int64(41)): 'Place 181',\n",
              " (np.int64(4), np.int64(28)): 'Place 182',\n",
              " (np.int64(89), np.int64(42)): 'Place 183',\n",
              " (np.int64(1), np.int64(95)): 'Place 184',\n",
              " (np.int64(0), np.int64(45)): 'Place 185',\n",
              " (np.int64(87), np.int64(0)): 'Place 187',\n",
              " (np.int64(50), np.int64(74)): 'Place 189',\n",
              " (np.int64(64), np.int64(70)): 'Place 190',\n",
              " (np.int64(9), np.int64(20)): 'Place 193',\n",
              " (np.int64(33), np.int64(2)): 'Place 196',\n",
              " (np.int64(119), np.int64(2)): 'Place 200',\n",
              " (np.int64(19), np.int64(21)): 'Place 202',\n",
              " (np.int64(49), np.int64(88)): 'Place 206',\n",
              " (np.int64(35), np.int64(97)): 'Place 208',\n",
              " (np.int64(33), np.int64(115)): 'Place 211',\n",
              " (np.int64(72), np.int64(69)): 'Place 212',\n",
              " (np.int64(51), np.int64(62)): 'Place 228',\n",
              " (np.int64(36), np.int64(43)): 'Place 229',\n",
              " (np.int64(4), np.int64(131)): 'Place 231',\n",
              " (np.int64(100), np.int64(29)): 'Place 234',\n",
              " (np.int64(130), np.int64(4)): 'Place 235',\n",
              " (np.int64(56), np.int64(15)): 'Place 237',\n",
              " (np.int64(39), np.int64(12)): 'Place 240',\n",
              " (np.int64(8), np.int64(81)): 'Place 242',\n",
              " (np.int64(55), np.int64(42)): 'Place 243',\n",
              " (np.int64(1), np.int64(63)): 'Place 259',\n",
              " (np.int64(92), np.int64(24)): 'Place 245',\n",
              " (np.int64(24), np.int64(89)): 'Place 246',\n",
              " (np.int64(54), np.int64(50)): 'Place 247',\n",
              " (np.int64(22), np.int64(91)): 'Place 250',\n",
              " (np.int64(30), np.int64(25)): 'Place 251',\n",
              " (np.int64(41), np.int64(81)): 'Place 252',\n",
              " (np.int64(37), np.int64(29)): 'Place 262',\n",
              " (np.int64(33), np.int64(89)): 'Place 264',\n",
              " (np.int64(70), np.int64(59)): 'Place 266',\n",
              " (np.int64(64), np.int64(5)): 'Place 272',\n",
              " (np.int64(35), np.int64(98)): 'Place 273',\n",
              " (np.int64(22), np.int64(53)): 'Place 274',\n",
              " (np.int64(19), np.int64(3)): 'Place 275',\n",
              " (np.int64(65), np.int64(72)): 'Place 276',\n",
              " (np.int64(17), np.int64(117)): 'Place 281',\n",
              " (np.int64(20), np.int64(89)): 'Place 284',\n",
              " (np.int64(10), np.int64(34)): 'Place 285',\n",
              " (np.int64(17), np.int64(116)): 'Place 286',\n",
              " (np.int64(129), np.int64(20)): 'Place 287',\n",
              " (np.int64(48), np.int64(25)): 'Place 288',\n",
              " (np.int64(17), np.int64(105)): 'Place 289',\n",
              " (np.int64(92), np.int64(29)): 'Place 293',\n",
              " (np.int64(7), np.int64(59)): 'Place 297',\n",
              " (np.int64(76), np.int64(0)): 'Place 299',\n",
              " (np.int64(57), np.int64(54)): 'Place 300',\n",
              " (np.int64(2), np.int64(68)): 'Place 302',\n",
              " (np.int64(6), np.int64(19)): 'Place 308',\n",
              " (np.int64(31), np.int64(112)): 'Place 309',\n",
              " (np.int64(54), np.int64(1)): 'Place 311',\n",
              " (np.int64(90), np.int64(42)): 'Place 313',\n",
              " (np.int64(18), np.int64(77)): 'Place 314',\n",
              " (np.int64(11), np.int64(44)): 'Place 315',\n",
              " (np.int64(47), np.int64(77)): 'Place 317',\n",
              " (np.int64(6), np.int64(102)): 'Place 323',\n",
              " (np.int64(31), np.int64(58)): 'Place 324',\n",
              " (np.int64(92), np.int64(35)): 'Place 325',\n",
              " (np.int64(69), np.int64(48)): 'Place 327',\n",
              " (np.int64(26), np.int64(99)): 'Place 328',\n",
              " (np.int64(59), np.int64(81)): 'Place 330',\n",
              " (np.int64(30), np.int64(8)): 'Place 331',\n",
              " (np.int64(33), np.int64(39)): 'Place 336',\n",
              " (np.int64(2), np.int64(39)): 'Place 338',\n",
              " (np.int64(97), np.int64(18)): 'Place 341',\n",
              " (np.int64(73), np.int64(10)): 'Place 342',\n",
              " (np.int64(116), np.int64(18)): 'Place 343',\n",
              " (np.int64(12), np.int64(20)): 'Place 347',\n",
              " (np.int64(41), np.int64(105)): 'Place 349',\n",
              " (np.int64(40), np.int64(42)): 'Place 350',\n",
              " (np.int64(68), np.int64(19)): 'Place 352',\n",
              " (np.int64(39), np.int64(54)): 'Place 384',\n",
              " (np.int64(130), np.int64(12)): 'Place 356',\n",
              " (np.int64(41), np.int64(45)): 'Place 357',\n",
              " (np.int64(58), np.int64(15)): 'Place 358',\n",
              " (np.int64(12), np.int64(70)): 'Place 359',\n",
              " (np.int64(23), np.int64(58)): 'Place 360',\n",
              " (np.int64(19), np.int64(126)): 'Place 362',\n",
              " (np.int64(80), np.int64(48)): 'Place 363',\n",
              " (np.int64(37), np.int64(0)): 'Place 365',\n",
              " (np.int64(25), np.int64(49)): 'Place 368',\n",
              " (np.int64(11), np.int64(62)): 'Place 369',\n",
              " (np.int64(60), np.int64(28)): 'Place 373',\n",
              " (np.int64(57), np.int64(50)): 'Place 374',\n",
              " (np.int64(65), np.int64(61)): 'Place 375',\n",
              " (np.int64(19), np.int64(24)): 'Place 380',\n",
              " (np.int64(37), np.int64(71)): 'Place 382',\n",
              " (np.int64(89), np.int64(58)): 'Place 383',\n",
              " (np.int64(16), np.int64(56)): 'Place 385',\n",
              " (np.int64(80), np.int64(5)): 'Place 386',\n",
              " (np.int64(63), np.int64(36)): 'Place 389',\n",
              " (np.int64(30), np.int64(107)): 'Place 390',\n",
              " (np.int64(6), np.int64(91)): 'Place 391',\n",
              " (np.int64(71), np.int64(13)): 'Place 393',\n",
              " (np.int64(58), np.int64(51)): 'Place 397',\n",
              " (np.int64(105), np.int64(23)): 'Place 398',\n",
              " (np.int64(109), np.int64(15)): 'Place 399',\n",
              " (np.int64(9), np.int64(5)): 'Place 400',\n",
              " (np.int64(58), np.int64(17)): 'Place 405'}"
            ]
          },
          "execution_count": 16,
          "metadata": {},
          "output_type": "execute_result"
        }
      ],
      "source": [
        "mapped_locations"
      ]
    },
    {
      "cell_type": "code",
      "execution_count": null,
      "metadata": {
        "id": "2WZKqdXh-DUj"
      },
      "outputs": [],
      "source": [
        "from sklearn.metrics.pairwise import cosine_similarity\n"
      ]
    },
    {
      "cell_type": "code",
      "execution_count": null,
      "metadata": {
        "id": "kA1eLd1j-DUj"
      },
      "outputs": [],
      "source": [
        "########################################### testing starts here in testing file #######################################################\n"
      ]
    },
    {
      "cell_type": "code",
      "execution_count": null,
      "metadata": {
        "id": "uhgle3Ew-DUj"
      },
      "outputs": [],
      "source": []
    }
  ],
  "metadata": {
    "kernelspec": {
      "display_name": "Python 3",
      "language": "python",
      "name": "python3"
    },
    "language_info": {
      "codemirror_mode": {
        "name": "ipython",
        "version": 3
      },
      "file_extension": ".py",
      "mimetype": "text/x-python",
      "name": "python",
      "nbconvert_exporter": "python",
      "pygments_lexer": "ipython3",
      "version": "3.12.8"
    },
    "colab": {
      "provenance": []
    }
  },
  "nbformat": 4,
  "nbformat_minor": 0
}